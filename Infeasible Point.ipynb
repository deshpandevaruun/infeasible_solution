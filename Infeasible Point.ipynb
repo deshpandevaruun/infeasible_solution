{
 "cells": [
  {
   "cell_type": "code",
   "execution_count": 56,
   "metadata": {},
   "outputs": [],
   "source": [
    "import gurobipy as gp\n",
    "from gurobipy import GRB\n",
    "import matplotlib.pyplot as plt\n",
    "import numpy as np\n",
    "from matplotlib.axes import Axes as ax"
   ]
  },
  {
   "cell_type": "code",
   "execution_count": 6,
   "metadata": {},
   "outputs": [],
   "source": [
    "model = gp.Model(\"model\")\n",
    "ubx = 0                                   # Minimize F(x, y) := (x-1.5)**2 + (y + 1)**2 \n",
    "lbx = 3                                   # subject to x in [0,3], x-y >= 1, x+y <= 2, -y <= 1, y <= 0\n",
    "x = model.addVar(lbx, ubx, name = 'x')\n",
    "y = model.addVar(name = 'y')\n",
    "model.addConstr(x-y>= 1, name = '1st')\n",
    "model.addConstr(x+y <= 2, name = '2nd')\n",
    "model.addConstr(-y <= 1)\n",
    "model.addConstr(y <= 0)\n",
    "model.setObjective((x-1.5)*(x-1.5) + (y + 1)* (y + 1), GRB.MINIMIZE)"
   ]
  },
  {
   "cell_type": "code",
   "execution_count": 7,
   "metadata": {},
   "outputs": [
    {
     "name": "stdout",
     "output_type": "stream",
     "text": [
      "Gurobi Optimizer version 9.1.0 build v9.1.0rc0 (win64)\n",
      "Thread count: 2 physical cores, 2 logical processors, using up to 2 threads\n",
      "Optimize a model with 4 rows, 2 columns and 6 nonzeros\n",
      "Model fingerprint: 0x79321340\n",
      "Model has 2 quadratic objective terms\n",
      "Coefficient statistics:\n",
      "  Matrix range     [1e+00, 1e+00]\n",
      "  Objective range  [2e+00, 3e+00]\n",
      "  QObjective range [2e+00, 2e+00]\n",
      "  Bounds range     [3e+00, 3e+00]\n",
      "  RHS range        [1e+00, 2e+00]\n",
      "Presolve time: 0.12s\n",
      "\n",
      "Barrier solved model in 0 iterations and 0.15 seconds\n",
      "Model is infeasible or unbounded\n"
     ]
    }
   ],
   "source": [
    "model.optimize()"
   ]
  },
  {
   "cell_type": "code",
   "execution_count": 8,
   "metadata": {},
   "outputs": [],
   "source": [
    "# (x, y) = (1.5, -1) is an optimal solution and lies in the feasible region"
   ]
  },
  {
   "cell_type": "code",
   "execution_count": 104,
   "metadata": {},
   "outputs": [
    {
     "data": {
      "image/png": "[encoded data removed]",
      "text/plain": [
       "<Figure size 432x288 with 1 Axes>"
      ]
     },
     "metadata": {
      "needs_background": "light"
     },
     "output_type": "display_data"
    }
   ],
   "source": [
    "%matplotlib inline\n",
    "x = np.linspace(0, 3)\n",
    "y1 = x - 1\n",
    "y2 = 2 - x\n",
    "plt.plot(x, y1)\n",
    "plt.plot(x, y2)\n",
    "y3 = plt.axhline(y=0, color='black', linestyle='-')\n",
    "y4 = plt.axhline(y=-1, color='r', linestyle='-')\n",
    "plt.axvline(0, color='black')\n",
    "plt.scatter(1.5, -1)\n",
    "plt.axvspan( 1, 2, ymin = -0.5, ymax = 0.35 , ec = 'blue',color = 'y', alpha = 0.5)\n",
    "plt.show()"
   ]
  },
  {
   "cell_type": "code",
   "execution_count": null,
   "metadata": {},
   "outputs": [],
   "source": []
  }
 ],
 "metadata": {
  "kernelspec": {
   "display_name": "Python 3",
   "language": "python",
   "name": "python3"
  },
  "language_info": {
   "codemirror_mode": {
    "name": "ipython",
    "version": 3
   },
   "file_extension": ".py",
   "mimetype": "text/x-python",
   "name": "python",
   "nbconvert_exporter": "python",
   "pygments_lexer": "ipython3",
   "version": "3.8.3"
  }
 },
 "nbformat": 4,
 "nbformat_minor": 4
}
